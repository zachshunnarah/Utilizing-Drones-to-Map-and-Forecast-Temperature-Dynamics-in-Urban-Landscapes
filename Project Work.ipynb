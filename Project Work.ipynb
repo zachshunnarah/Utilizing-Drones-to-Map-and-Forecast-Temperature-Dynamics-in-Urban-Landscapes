{
 "cells": [
  {
   "cell_type": "markdown",
   "id": "a1255d95",
   "metadata": {},
   "source": [
    "**Regression Model Creation**"
   ]
  },
  {
   "cell_type": "markdown",
   "id": "bcd05687",
   "metadata": {},
   "source": [
    "First, packages are imported."
   ]
  },
  {
   "cell_type": "code",
   "execution_count": 1,
   "id": "0df21667",
   "metadata": {},
   "outputs": [],
   "source": [
    "import pandas as pd\n",
    "import numpy as np\n",
    "import matplotlib.pyplot as plt\n",
    "from sklearn.model_selection import train_test_split\n",
    "from sklearn.linear_model import LinearRegression\n",
    "from sklearn.metrics import mean_squared_error"
   ]
  },
  {
   "cell_type": "markdown",
   "id": "bcc7604a",
   "metadata": {},
   "source": [
    "The next step is to read in the csv tables."
   ]
  },
  {
   "cell_type": "code",
   "execution_count": 2,
   "id": "f5306d39",
   "metadata": {},
   "outputs": [],
   "source": [
    "total_water = pd.read_csv('total_water.csv')\n",
    "total_hww = pd.read_csv('total_hww.csv')\n",
    "total_hwe = pd.read_csv('total_hwe.csv')\n",
    "total_greenspace = pd.read_csv('total_greenspace.csv')\n",
    "total_parkinglot = pd.read_csv('total_parkinglot.csv')"
   ]
  },
  {
   "cell_type": "markdown",
   "id": "2a490ccf",
   "metadata": {},
   "source": [
    "Each of the next sections create training and test sets for each of the tabular results."
   ]
  },
  {
   "cell_type": "code",
   "execution_count": 3,
   "id": "a5fd97c9",
   "metadata": {},
   "outputs": [],
   "source": [
    "# training and test for water landscape\n",
    "training_water = total_water[['X', 'Y', '10/27/2021', '12/14/2021', '3/4/2022', '3/28/2022',\n",
    "                             '4/13/2022', '4/21/2022']]\n",
    "test_water = total_water[['X', 'Y', '1/26/2024', '1/29/2024']]"
   ]
  },
  {
   "cell_type": "code",
   "execution_count": 4,
   "id": "4ccd7f4c",
   "metadata": {},
   "outputs": [],
   "source": [
    "# training and test for harbor walk west landscape\n",
    "training_hww = total_hww[['X', 'Y', '10/27/2021', '12/14/2021', '3/4/2022', '3/28/2022',\n",
    "                             '4/13/2022', '4/21/2022']]\n",
    "test_hww = total_hww[['X', 'Y', '1/26/2024', '1/29/2024']]"
   ]
  },
  {
   "cell_type": "code",
   "execution_count": 5,
   "id": "4acd7afd",
   "metadata": {},
   "outputs": [],
   "source": [
    "# training and test for harbor walk east landscape\n",
    "training_hwe = total_hwe[['X', 'Y', '10/27/2021', '12/14/2021', '3/4/2022', '3/28/2022',\n",
    "                             '4/13/2022', '4/21/2022']]\n",
    "test_hwe = total_hwe[['X', 'Y', '1/26/2024', '1/29/2024']]"
   ]
  },
  {
   "cell_type": "code",
   "execution_count": 6,
   "id": "1ca8701e",
   "metadata": {},
   "outputs": [],
   "source": [
    "# training and test for greenspace landscape\n",
    "training_greenspace = total_greenspace[['X', 'Y', '10/27/2021', '12/14/2021', '3/4/2022', '3/28/2022',\n",
    "                             '4/13/2022', '4/21/2022']]\n",
    "test_greenspace = total_greenspace[['X', 'Y', '1/26/2024', '1/29/2024']]"
   ]
  },
  {
   "cell_type": "code",
   "execution_count": 7,
   "id": "6825286f",
   "metadata": {},
   "outputs": [],
   "source": [
    "# training and test for parking lot landscape\n",
    "training_parkinglot = total_parkinglot[['X', 'Y', '10/27/2021', '12/14/2021', '3/4/2022', '3/28/2022',\n",
    "                             '4/13/2022', '4/21/2022']]\n",
    "test_parkinglot = total_parkinglot[['X', 'Y', '1/26/2024', '1/29/2024']]"
   ]
  },
  {
   "cell_type": "markdown",
   "id": "93f503d2",
   "metadata": {},
   "source": [
    "For each of the landscapes, the model is created. The first line of code in each section is a validation step. This involves another set of training and testing, but this time only within the original training set. The split in this case is 80/20. The creation of the model is the same for each landscape, with the exception of which dataset the model uses. Lastly, the mean squared error for each model was calculated."
   ]
  },
  {
   "cell_type": "code",
   "execution_count": 8,
   "id": "63d67172",
   "metadata": {},
   "outputs": [
    {
     "name": "stdout",
     "output_type": "stream",
     "text": [
      "Mean Squared Error: 0.005022458340437198\n"
     ]
    },
    {
     "data": {
      "text/plain": [
       "array([[6.00597023e+05, 3.62874260e+06, 2.59952190e+01, 2.51209629e+01],\n",
       "       [6.00613676e+05, 3.62874563e+06, 2.58589357e+01, 2.51508381e+01],\n",
       "       [6.00605539e+05, 3.62874506e+06, 2.59441544e+01, 2.51392217e+01],\n",
       "       ...,\n",
       "       [6.00619921e+05, 3.62874658e+06, 2.58555214e+01, 2.51872699e+01],\n",
       "       [6.00608188e+05, 3.62876380e+06, 2.59385353e+01, 2.52034872e+01],\n",
       "       [6.00608188e+05, 3.62875206e+06, 2.59276135e+01, 2.51661207e+01]])"
      ]
     },
     "execution_count": 8,
     "metadata": {},
     "output_type": "execute_result"
    }
   ],
   "source": [
    "# model for water landscape\n",
    "X_train_water, X_test_water, y_train_water, y_test_water = train_test_split(training_water, test_water, test_size=0.2, random_state=42)\n",
    "\n",
    "model = LinearRegression()\n",
    "model.fit(X_train_water, y_train_water)\n",
    "\n",
    "y_pred_water = model.predict(X_test_water)\n",
    "\n",
    "mse_water = mean_squared_error(y_test_water, y_pred_water)\n",
    "print(f\"Mean Squared Error: {mse_water}\")\n",
    "y_pred_water"
   ]
  },
  {
   "cell_type": "code",
   "execution_count": 9,
   "id": "988953a8",
   "metadata": {},
   "outputs": [
    {
     "name": "stdout",
     "output_type": "stream",
     "text": [
      "Mean Squared Error: 0.5110218575516099\n"
     ]
    },
    {
     "data": {
      "text/plain": [
       "array([[6.00494583e+05, 3.62866688e+06, 2.88919325e+01, 2.57826404e+01],\n",
       "       [6.00494203e+05, 3.62865209e+06, 2.94490805e+01, 2.65053857e+01],\n",
       "       [6.00510317e+05, 3.62864906e+06, 2.91247679e+01, 2.56176778e+01],\n",
       "       ...,\n",
       "       [6.00499511e+05, 3.62864489e+06, 2.95191839e+01, 2.59951716e+01],\n",
       "       [6.00490981e+05, 3.62865607e+06, 2.92756227e+01, 2.85816750e+01],\n",
       "       [6.00505198e+05, 3.62866820e+06, 2.89813661e+01, 2.80228304e+01]])"
      ]
     },
     "execution_count": 9,
     "metadata": {},
     "output_type": "execute_result"
    }
   ],
   "source": [
    "# model for harbor walk west landscape\n",
    "X_train_hww, X_test_hww, y_train_hww, y_test_hww = train_test_split(training_hww, test_hww, test_size=0.2, random_state=42)\n",
    "\n",
    "model = LinearRegression()\n",
    "model.fit(X_train_hww, y_train_hww)\n",
    "\n",
    "y_pred_hww = model.predict(X_test_hww)\n",
    "\n",
    "mse_hww = mean_squared_error(y_test_hww, y_pred_hww)\n",
    "print(f\"Mean Squared Error: {mse_hww}\")\n",
    "y_pred_hww"
   ]
  },
  {
   "cell_type": "code",
   "execution_count": 10,
   "id": "c9d4a52a",
   "metadata": {},
   "outputs": [
    {
     "name": "stdout",
     "output_type": "stream",
     "text": [
      "Mean Squared Error: 0.5564086595154097\n"
     ]
    },
    {
     "data": {
      "text/plain": [
       "array([[6.00540510e+05, 3.62869137e+06, 2.86791317e+01, 2.58321348e+01],\n",
       "       [6.00571032e+05, 3.62869648e+06, 2.83864126e+01, 2.64645405e+01],\n",
       "       [6.00567051e+05, 3.62871696e+06, 2.82954177e+01, 2.64438686e+01],\n",
       "       ...,\n",
       "       [6.00570274e+05, 3.62869497e+06, 2.83620924e+01, 2.60368725e+01],\n",
       "       [6.00554349e+05, 3.62869686e+06, 2.86062381e+01, 2.66368156e+01],\n",
       "       [6.00539562e+05, 3.62867696e+06, 2.89702363e+01, 2.61155821e+01]])"
      ]
     },
     "execution_count": 10,
     "metadata": {},
     "output_type": "execute_result"
    }
   ],
   "source": [
    "# model for harbor walk east landscape\n",
    "X_train_hwe, X_test_hwe, y_train_hwe, y_test_hwe = train_test_split(training_hwe, test_hwe, test_size=0.2, random_state=42)\n",
    "\n",
    "model = LinearRegression()\n",
    "model.fit(X_train_hwe, y_train_hwe)\n",
    "\n",
    "y_pred_hwe = model.predict(X_test_hwe)\n",
    "\n",
    "mse_hwe = mean_squared_error(y_test_hwe, y_pred_hwe)\n",
    "print(f\"Mean Squared Error: {mse_hwe}\")\n",
    "y_pred_hwe"
   ]
  },
  {
   "cell_type": "code",
   "execution_count": 11,
   "id": "b8519115",
   "metadata": {},
   "outputs": [
    {
     "name": "stdout",
     "output_type": "stream",
     "text": [
      "Mean Squared Error: 0.00920496662744728\n"
     ]
    },
    {
     "data": {
      "text/plain": [
       "array([[6.00556988e+05, 3.62873965e+06, 2.75118908e+01, 2.44142171e+01],\n",
       "       [6.00552636e+05, 3.62873662e+06, 2.74354598e+01, 2.44250700e+01],\n",
       "       [6.00544501e+05, 3.62872905e+06, 2.73398436e+01, 2.48167528e+01],\n",
       "       ...,\n",
       "       [6.00542230e+05, 3.62872792e+06, 2.73905638e+01, 2.47844146e+01],\n",
       "       [6.00554150e+05, 3.62873492e+06, 2.73564737e+01, 2.46671249e+01],\n",
       "       [6.00541095e+05, 3.62873378e+06, 2.73883739e+01, 2.42614020e+01]])"
      ]
     },
     "execution_count": 11,
     "metadata": {},
     "output_type": "execute_result"
    }
   ],
   "source": [
    "# model for greenspace landscape\n",
    "X_train_greenspace, X_test_greenspace, y_train_greenspace, y_test_greenspace = train_test_split(training_greenspace, test_greenspace, test_size=0.2, random_state=42)\n",
    "\n",
    "model = LinearRegression()\n",
    "model.fit(X_train_greenspace, y_train_greenspace)\n",
    "\n",
    "y_pred_greenspace = model.predict(X_test_greenspace)\n",
    "\n",
    "mse_greenspace = mean_squared_error(y_test_greenspace, y_pred_greenspace)\n",
    "print(f\"Mean Squared Error: {mse_greenspace}\")\n",
    "y_pred_greenspace"
   ]
  },
  {
   "cell_type": "code",
   "execution_count": 12,
   "id": "0d978d4a",
   "metadata": {
    "scrolled": false
   },
   "outputs": [
    {
     "name": "stdout",
     "output_type": "stream",
     "text": [
      "Mean Squared Error: 0.14423502076806763\n"
     ]
    },
    {
     "data": {
      "text/plain": [
       "array([[6.00478487e+05, 3.62867333e+06, 2.81180108e+01, 2.38056721e+01],\n",
       "       [6.00478487e+05, 3.62868280e+06, 2.80427052e+01, 2.46600624e+01],\n",
       "       [6.00506119e+05, 3.62869094e+06, 2.79381231e+01, 2.44400470e+01],\n",
       "       ...,\n",
       "       [6.00484544e+05, 3.62868772e+06, 2.79748318e+01, 2.44291342e+01],\n",
       "       [6.00485868e+05, 3.62868507e+06, 2.81791348e+01, 2.42688580e+01],\n",
       "       [6.00504037e+05, 3.62868904e+06, 2.80019679e+01, 2.41347756e+01]])"
      ]
     },
     "execution_count": 12,
     "metadata": {},
     "output_type": "execute_result"
    }
   ],
   "source": [
    "# model for parking lot landscape\n",
    "X_train_parkinglot, X_test_parkinglot, y_train_parkinglot, y_test_parkinglot = train_test_split(training_parkinglot, test_parkinglot, test_size=0.2, random_state=42)\n",
    "\n",
    "model = LinearRegression()\n",
    "model.fit(X_train_parkinglot, y_train_parkinglot)\n",
    "\n",
    "y_pred_parkinglot = model.predict(X_test_parkinglot)\n",
    "\n",
    "mse_parkinglot = mean_squared_error(y_test_parkinglot, y_pred_parkinglot)\n",
    "print(f\"Mean Squared Error: {mse_parkinglot}\")\n",
    "y_pred_parkinglot"
   ]
  },
  {
   "cell_type": "markdown",
   "id": "caafc78d",
   "metadata": {},
   "source": [
    "The last step involves comparing the mean squared errors to determine which landscape exhibits the greatest variability in the predictive model. This comparison helps identify which landscape predictions deviate the most from the actual values, indicating higher variability."
   ]
  },
  {
   "cell_type": "code",
   "execution_count": 13,
   "id": "d3b16d5f",
   "metadata": {},
   "outputs": [
    {
     "data": {
      "image/png": "[encoded data removed]",
      "text/plain": [
       "<Figure size 640x480 with 1 Axes>"
      ]
     },
     "metadata": {},
     "output_type": "display_data"
    }
   ],
   "source": [
    "total_mse = {'Water MSE': [mse_water],\n",
    "             'HWW MSE': [mse_hww],\n",
    "             'HWE MSE': [mse_hwe],\n",
    "             'Greenspace MSE': [mse_greenspace],\n",
    "             'Parking Lot MSE': [mse_parkinglot]}\n",
    "\n",
    "mse_df = pd.DataFrame(total_mse)\n",
    "\n",
    "plot = mse_df.plot.bar()\n",
    "plot.set_xlabel('Landscape', fontweight='bold')\n",
    "plot.set_ylabel('MSE (\\u00B0C)' ,fontweight='bold')\n",
    "plt.title('MSE per Landscape for Predicted Temperature Model', fontweight='bold')\n",
    "\n",
    "plt.xticks([])\n",
    "plt.yticks([0, 0.1, 0.2, 0.3, 0.4, 0.5, 0.6])\n",
    "\n",
    "plt.show()\n"
   ]
  }
 ],
 "metadata": {
  "kernelspec": {
   "display_name": "Python 3 (ipykernel)",
   "language": "python",
   "name": "python3"
  },
  "language_info": {
   "codemirror_mode": {
    "name": "ipython",
    "version": 3
   },
   "file_extension": ".py",
   "mimetype": "text/x-python",
   "name": "python",
   "nbconvert_exporter": "python",
   "pygments_lexer": "ipython3",
   "version": "3.11.4"
  }
 },
 "nbformat": 4,
 "nbformat_minor": 5
}
